{
 "cells": [
  {
   "cell_type": "markdown",
   "id": "4a5729fa",
   "metadata": {},
   "source": [
    "# Amortized Analysis\n",
    "\n",
    "Amortized analysis is a method to analyze the time complexity of executing $n$ operations on a data structure, where we are interested in the overall performce on the $n$ operations, not just on individual operation, for some operations may require much more time to process than the others. Amortized analysis spreads out the cost among all operations."
   ]
  },
  {
   "cell_type": "markdown",
   "id": "a2c30067",
   "metadata": {},
   "source": [
    "# Idea\n",
    "\n",
    "Given a sequence of operations on a data structure $D$, we spread out the cost (runtime) over the sequence.\n",
    "\n",
    "1. Divide some of the cost of inefficient operations across the more efficient operations. This approach would make sense if the inefficient operations occur relatively infrequently within the sequence of operations to be analyzed. In other words, the cost of infrequent operations may be \"shared\" by efficient operations, providing an average cost of each operation.\n",
    "\t\t\n",
    "2. Using the business definition of amortize is another way to think about this process. For example, loans are traditionally amortized, so that one pays the same amount per month over the life of the loan. In reality, in each month, different amounts of money are going to the principal and the interest.\n",
    "\t\t"
   ]
  },
  {
   "cell_type": "markdown",
   "id": "2880be55",
   "metadata": {},
   "source": [
    "# Three Methods\n",
    "\n",
    "Amortized analysis is an analysis technique (In\n",
    "\treality we cannot divide time among operations!).\n",
    "    Namely, there is no change in computational model.\n",
    "\t\n",
    "\n",
    "There are three main methods people use to do amortized analysis:\n",
    "\n",
    "1. Aggregate method: Compute a simple mean.\n",
    "\n",
    "2. Accounting method: Maintain a bank account of credits to pay for the operations.\n",
    "\t\t\n",
    "3. Potential method: Give data structures potential energy similar to the notion of potential energy in physics.\n",
    "\t\t"
   ]
  },
  {
   "cell_type": "markdown",
   "id": "62481b2d",
   "metadata": {},
   "source": [
    "# Aggregate Method\n",
    "\n",
    "The aggregate method is the most intuitive form of amortized analysis.\n",
    "\n",
    "1. In aggregate analysis we show that a sequence of $n$ operations takes worst-case time $T(n)$ in total. To get the amortized time, simply compute $T(n)/n$, the average time per operation. Note that we assign the <b>same</b> cost to every operation.\n",
    "\t\n",
    "\n",
    "2. Examples. Let's try out this method on two data structures: stack and binary counter.\n"
   ]
  },
  {
   "cell_type": "markdown",
   "id": "4da1838c",
   "metadata": {},
   "source": [
    "## Stack\n",
    "\n",
    "The main operations on a stack are Push and Pop.\n",
    "\n",
    "1. Push and Pop are local operations, and so the worst-case time is $O(1)$.\n",
    "\t\n",
    "2. Given a sequence of $n$ operations consisting of Push and Pop, the worst-case time $T(n) = \\sum_{i = 1}^n O(1) = O(n)$. Thus, the amortized time per operation is $O(1)$\n",
    "\n",
    "Now consider a more expensive operation on a stack: Multipop. It takes an argument $k$ (the number of items to pop) as input and executes the Pop operation on the stack $k$ times without pusp in between, until the stack is empty.\n",
    "\n",
    "1. Let $S$ denote a stack and $|S|$ its size. The worst-case runtime of Multipop(S,k) is $\\min\\{k, |S|\\}$.\n",
    "\n",
    "2. Consider three operations: Push, Pop, and Multipop."
   ]
  },
  {
   "cell_type": "markdown",
   "id": "f3d22d80",
   "metadata": {},
   "source": [
    "## Pops Cannot Exceed Pushes\n",
    "\n",
    "1. We should capitalize more on what we know about a sequence of $n$ stack operations starting from an empty stack.\n",
    "\n",
    "2. Observation: An item can only be popped from the stack once.\n",
    "\n",
    "3. Claim: A sequence of $n$ operations, on an initially empty stack, takes $O(n)$ time to run: The number of Pop operations (including Multipop) is at most the number of Push operations. There are, at most $n$ Push operations so there are at most $n$ Pop operations performed for a sequence of $n$ operations.\n",
    "\t\t\n",
    "3. This means the amortized cost per operation is $O(n)/n = O(1)$.\t\t\n",
    "\t"
   ]
  },
  {
   "cell_type": "markdown",
   "id": "924310bc",
   "metadata": {},
   "source": [
    "## Binary Counter\n",
    "\n",
    "A binary counter has $k$-bits for a fixed $k$, similar to the $8$-digit odometer in your car.\n",
    "\n",
    "1. Increment is the only operation.\n",
    "\n",
    "2. Since we are restricted to $k$-bits, the counter can \"rollover\" (overflow).\n",
    "\t\n",
    "We implement the binary counter as an array of size $k$ as follows:\n",
    "\t"
   ]
  },
  {
   "cell_type": "code",
   "execution_count": 5,
   "id": "3b1a514d",
   "metadata": {
    "ExecuteTime": {
     "end_time": "2023-11-13T01:04:43.536052Z",
     "start_time": "2023-11-13T01:04:43.530580Z"
    }
   },
   "outputs": [],
   "source": [
    "def Increment(C): # C is a counter of k bits\n",
    "    i = 0\n",
    "    while (i < k) and (C[i] == 1):\n",
    "        C[i] = 0\n",
    "        i += 1\n",
    "    if i < k: # carry bit\n",
    "        C[i] = 1\n"
   ]
  },
  {
   "cell_type": "markdown",
   "id": "91f3b8dd",
   "metadata": {},
   "source": [
    "Set the array to 0s initially. Want to find out the runtime of executing $n$ increments.\n",
    "\n",
    "<b>Observation</b>:\n",
    "\n",
    "1. While increment $i+1$ causes a number of bits to flip, not every bit flips every time.\n",
    "\n",
    "2. Consider the following binary counter sequence ($k = 4$) with $C[0]$ being in the right-most column:\n",
    "\n",
    "\\begin{align*}\n",
    "\\begin{array}{cccc}\n",
    "0 & 0 & 0 & 0\\\\\n",
    "0 & 0 & 0 & \\mathbf{1} \\\\\n",
    "0 & 0 & \\mathbf{1} & \\mathbf{0}\\\\\n",
    "0 & 0 & 1 & \\mathbf{1} \\\\\n",
    "0 & \\mathbf{1} & \\mathbf{0} & \\mathbf{0}\\\\\n",
    "0 & 1 & 0 & \\mathbf{1}\\\\\n",
    "0 & 1 & \\mathbf{1} & \\mathbf{0}\\\\\n",
    "0 & 1 & 1 & \\mathbf{1}\\\\\n",
    "\\mathbf{1} & \\mathbf{0} & \\mathbf{0} & \\mathbf{0}\\\\\n",
    "1 & 0 & 0 & \\mathbf{1}\\\\\n",
    "1 & 0 & \\mathbf{1} & \\mathbf{0}\\\\\n",
    "1 & 0 & 1 & \\mathbf{1} \\\\\n",
    "1 & \\mathbf{1} & \\mathbf{0} & \\mathbf{0}\\\\\n",
    "1 & 1 & 0 & \\mathbf{1}\\\\\n",
    "1 & 1 & \\mathbf{1} & \\mathbf{0}\\\\\n",
    "1 & 1 & 1 & \\mathbf{1}\\\\\n",
    "\\mathbf{0} & \\mathbf{0} & \\mathbf{0} & \\mathbf{0}\n",
    "\\end{array}\n",
    "\\end{align*}\n"
   ]
  },
  {
   "cell_type": "markdown",
   "id": "4408098d",
   "metadata": {},
   "source": [
    "## Bit Flips\n",
    "\n",
    "1. In a sequence of $n$ operations, $C[0]$ flips every operation.\n",
    "\n",
    "2. $C[1]$ flips every other operation; i.e., $\\lfloor\\frac{n}{2}\\rfloor$ in $n$ operations.\n",
    "\n",
    "3. $C[2]$ flips every $2^2 = 4$ operations.\n",
    "\n",
    "4. Similarly, $C[i]$ flips every $2^i$ operations.\n",
    "\n",
    "Thus,\n",
    "\\begin{align*}\n",
    "\\begin{array}{ll}\n",
    "T(n) &= \\sum_{i = 0}^{k-1}\\left\\lfloor \\frac{n}{2^i}\\right\\rfloor & (\\text{Change of indices})\\\\\n",
    "&\\leq \\sum_{i = 0}^\\infty \\frac{n}{2^i} & (\\text{Upperbound series})\\\\\n",
    "&= n\\sum_{i = 0}^\\infty \\left(\\frac{1}{2}\\right)^i & (\\text{Geometric series})\\\\\n",
    "&= n\\left(\\frac{1}{1 - \\frac{1}{2}}\\right) & \\\\\n",
    "&= 2n &\n",
    "\\end{array}\n",
    "\\end{align*}\n",
    "\n",
    "5. Taking an average to get $2n/n = 2$ amortized time per Increment operation.\t\n"
   ]
  },
  {
   "cell_type": "markdown",
   "id": "17359e78",
   "metadata": {},
   "source": [
    "# Accounting Method\n",
    "\n",
    "The accounting method is a business way of thinking about amortized analysis:\n",
    "\t\n",
    "1. Assign every operation an amortized cost in credits. This may be more than or less than the actual cost, often referred to as the <b>charge</b> for the operation.\n",
    "\t\t\n",
    "2. We put any overages in a \"piggy bank\". An overage occurs when the amortized cost of an operation exceeds the actual cost of an operation.\n",
    "\t\t\n",
    "3. If we don't have enough credits, from the amortized cost, to cover the actual cost of the operation we have a <b>deficit</b>. To cover the deficit, we extract the required credits from the piggy bank.\n",
    "\t\t\t\n",
    "4. How to assign amortized costs to operations is important. It needs to guarantee that regardless of the sequence of operations the amortized costs will be an upper bound of the actual cost.\n",
    "\t"
   ]
  },
  {
   "cell_type": "markdown",
   "id": "0842e59f",
   "metadata": {},
   "source": [
    "## Example 1: Stack with Multipop\n",
    "\t\n",
    "1. To use the accounting method we must assign an appropriate amortized cost to each operation.\n",
    "\n",
    "\\begin{align*}\n",
    "\\begin{array}{|l|c|c|}\n",
    "    \\hline\n",
    "\t\\textbf{Operation} & \\textbf{Actual Cost} & \\textbf{Amortized Cost}\\\\\n",
    "    \\hline\n",
    "\t\\text{Push}\t   & 1\t\t\t & 2\\\\\n",
    "\t\\hline\n",
    "\t\\text{Pop}\t   & 1 \t\t\t & 0\\\\\n",
    "    \\hline\n",
    "\t\\text{Multipop}  & \\min\\{k, |S|\\} & 0 \\\\\n",
    "    \\hline\n",
    "\\end{array}\n",
    "\\end{align*}\n",
    "\n",
    "2. That is, we think ahead: For each element pushed into the stack, we will also budget the cost of popping it to the push, leaving the cost of element-popping for free.\n"
   ]
  },
  {
   "cell_type": "markdown",
   "id": "02728d3f",
   "metadata": {},
   "source": [
    "## Does It Work?\n",
    "\n",
    "\t\t\n",
    "1. It does.\n",
    "2. One can only pop elements that have been pushed onto the stack.\n",
    "3. Regardless of which Multipush and Push is used, removing an item requires constant time.\n",
    "4. Each item pushed to the stack charges 1 credit, which leaves 1 credit for the piggy bank to pop the item being pushed. Every pop require us to take one credit out of the piggy bank.\n",
    "\t\t\t\n",
    "5. This means a sequence of $n$ operations costs $O(n)$ time, implying an amortized cost of $O(1)$ for every operation."
   ]
  },
  {
   "cell_type": "markdown",
   "id": "26aa9f64",
   "metadata": {},
   "source": [
    "## Binary Counter\n",
    "\n",
    "Need to think of the two sub-operations for Increment:\n",
    "\t\t\n",
    "1. Set bit $C[i]$; i.e., set bit $C[i]$ to 1. The actual cost of this operation is 1.\n",
    "\t\t\t\n",
    "2. Clear bit $C[i]$; i.e., set bit $C[i]$ to 0. The actual cost of this operation is 1.\n",
    "\t\t\t\n",
    "3. What can we do for amortized cost? The set-bit operation will have amortized cost of 2, one for setting it, and one for clearing it.\n",
    "\n",
    "4. Note: A bit cannot be cleared without being set first.\n",
    "\n",
    "5. The clear-bit operation will have amortized cost 0.\n",
    "\n",
    "6. Setting a bit is charged 2 credits, one for the operation and one for the piggy bank.\n",
    "\n",
    "7. Clearing a bit uses the one credit overcharged for setting the bit from the piggy bank.\n",
    "\n",
    "8. Since we can never have a negative number of 1s, the balance of the piggy bank is never below zero.\n",
    "\t\t\t\n",
    "9. The cost of clearing the bits in the <b>while</b> loop for Increment is covered by the money in the piggy bank.\n",
    "\n",
    "10. The cost to set a bit at the index of Increment requires a cost of 2.\n",
    "\n",
    "Taking these facts together we arrive at a cost of $2n$ for $n$ Increment operations,\n",
    "thus the average amortized cost of an Increment operation is $2$.\n",
    "\t\t\t\n",
    "\t\t\n",
    "\t\t"
   ]
  },
  {
   "cell_type": "markdown",
   "id": "9bd2783a",
   "metadata": {},
   "source": [
    "# Potential Method\n",
    "\n",
    "The potential meethod is the most general method. It looks at a data structure and measure its \"energy change\" in each operation from the previous one.\n",
    "\t\n",
    "1. Assign a <b>potential energy</b> to a given state of the data structure.\n",
    "\t\t\n",
    "2. Every operation puts the data structure into a different state that either increases or decreases the potential energy.\n",
    "\n",
    "3. Denote by $D_i$ the state of a data structure after the $i$-th operation.\n",
    "\n",
    "4. Denote by $\\Phi(D_i)$ the potential energy of the data structure in state $D_i$. This is a real value. The function $\\Phi$ is referred to as the potential function.\n",
    "\t\t\n",
    "5. Denote the amortized cost of the $i$-th operation by $\\hat{c}_i$. Formally, \n",
    "\n",
    "$$\\hat{c}_i = c_i + \\Phi(D_i) - \\Phi(D_{i - 1}),$$ \n",
    "\n",
    "where $c_i$ is the actual cost of the $i$-th operation.\n",
    "\t"
   ]
  },
  {
   "cell_type": "markdown",
   "id": "999cc720",
   "metadata": {},
   "source": [
    "## The Total Amortized Cost for $n$ Operations\n",
    "\n",
    "\\begin{align*}\n",
    "\\sum_{i = 1}^n \\hat{c}_i &= \\sum_{i = 1}^n (c_i + \\Phi(D_i) - \\Phi(D_{i -1})) &\\\\\n",
    "&= \\sum_{i = 1}^n c_i + \\sum_{i = 1}^n (\\Phi(D_i) - \\Phi(D_{i -1})) & (\\text{Telescoping series.})\\\\\n",
    "&= \\sum_{i = 1}^n c_i + \\Phi(D_n) - \\Phi(D_0).\n",
    "\\end{align*}\n",
    "    \n",
    "1. If $\\Phi(D_n) \\geq \\Phi(D_0)$, then the total amortized cost is an upper bound of the total actual cost.\n",
    "\t\t\n",
    "2. In practice, $\\Phi(D_i) \\geq \\Phi(D_0)$ for all $i$. This guarantees we store up enough energy in advance. Typically, $\\Phi(D_0) = 0$."
   ]
  },
  {
   "cell_type": "markdown",
   "id": "79c3a18c",
   "metadata": {},
   "source": [
    "## Potential Functions\n",
    "\n",
    "There are a wide range of potential functions that can be used for the analysis.\n",
    "The choice depends on how tight of a bound we want.\n",
    "\t\n",
    "Let's look at the stack again.\n",
    "\t\n",
    "1. Define the potential function to be the number of items in stack $S$. This naturally gives us $\\Phi(D_0) = 0$. Notice that stacks cannot have negative potential.\n",
    "\t\t\n",
    "2. $\\Phi(D_i) \\geq 0$ for all $i$.\n",
    "\n",
    "3. The fact $\\Phi(D_i) \\geq 0$ for all $i$ means that $\\Phi(D_i) \\geq \\Phi(D_0)$ for all $i$. Thus conserving sufficient energy.\n",
    "\t\t"
   ]
  },
  {
   "cell_type": "markdown",
   "id": "cd953b83",
   "metadata": {},
   "source": [
    "## Amortized Cost of Stack Operations\n",
    "\n",
    "1. Push has an amortized cost 2. Suppose the $i$-th operation is a Push, then\n",
    "\n",
    "$$\\hat{c}_i = c_i + \\Phi(D_i) - \\Phi(D_{i - 1}) = 1 + 1 = 2.$$\n",
    "\n",
    "\n",
    "2. Multipop has an amortized cost 0. \n",
    "\n",
    "$$\\hat{c}_i = c_i + \\Phi(D_i) - \\Phi(D_{i - 1}) = \\min\\{|D_{i-1}|, k\\} + (|D_{i-1}| -\n",
    "\t\t\t\t\\min\\{|D_{i-1}|, k\\}) - |D_{i-1}| = 0.$$\n",
    "\n",
    "\n",
    "\n",
    "3. Pop has an amortized cost 0.\n",
    "\n",
    "$$\\hat{c}_i = c_i + \\Phi(D_i) - \\Phi(D_{i - 1}) = 1 - 1 = 0.$$"
   ]
  },
  {
   "cell_type": "markdown",
   "id": "82a68634",
   "metadata": {},
   "source": [
    "## Binary Counter\n",
    "\n",
    "1. Let $\\Phi(D_i)$ be the number of 1s in the counter after the $i$-th Increment operation.\n",
    "2. We have $\\Phi(D_0) = 0$ since we start the counter with 0s.\n",
    "3. Let $t_i$ be the number of bits reset from 1 to 0 by the $i$-th Increment operation. This means the actual cost $c_i$ is $t_i + 1$ since we have to set one bit.\n",
    "4. (1) If $\\Phi(D_i) = 0$, then it means that all bits are reset from 1 to 0. This implies $\\Phi(D_{i - 1}) = t_i = k$ (only when the binary counter was full can this happen). (2) If $\\Phi(D_i) > 0$, then $\\Phi(D_i) = \\Phi(D_{i - 1}) - t_i + 1$.\n",
    "\n",
    "5. The potential difference for the $i$-th Increment operation is $\\Phi(D_i) - \\Phi(D_{i-1}) = 1 - t_i$.\n",
    "\t\t\n",
    "6. The amortized cost of Increment is $(t_i + 1) + (1 - t_i) = 2$.\n",
    "\n",
    "Note: We can use the potential method to argue that the bound holds even if the counter does not start at zero.\n"
   ]
  },
  {
   "cell_type": "code",
   "execution_count": null,
   "id": "626a4333",
   "metadata": {},
   "outputs": [],
   "source": []
  }
 ],
 "metadata": {
  "kernelspec": {
   "display_name": "Python3-9-12",
   "language": "python",
   "name": "python3-9-12"
  },
  "language_info": {
   "codemirror_mode": {
    "name": "ipython",
    "version": 3
   },
   "file_extension": ".py",
   "mimetype": "text/x-python",
   "name": "python",
   "nbconvert_exporter": "python",
   "pygments_lexer": "ipython3",
   "version": "3.9.12"
  },
  "toc": {
   "base_numbering": 1,
   "nav_menu": {},
   "number_sections": true,
   "sideBar": true,
   "skip_h1_title": false,
   "title_cell": "Table of Contents",
   "title_sidebar": "Contents",
   "toc_cell": false,
   "toc_position": {},
   "toc_section_display": true,
   "toc_window_display": false
  },
  "varInspector": {
   "cols": {
    "lenName": 16,
    "lenType": 16,
    "lenVar": 40
   },
   "kernels_config": {
    "python": {
     "delete_cmd_postfix": "",
     "delete_cmd_prefix": "del ",
     "library": "var_list.py",
     "varRefreshCmd": "print(var_dic_list())"
    },
    "r": {
     "delete_cmd_postfix": ") ",
     "delete_cmd_prefix": "rm(",
     "library": "var_list.r",
     "varRefreshCmd": "cat(var_dic_list()) "
    }
   },
   "types_to_exclude": [
    "module",
    "function",
    "builtin_function_or_method",
    "instance",
    "_Feature"
   ],
   "window_display": false
  }
 },
 "nbformat": 4,
 "nbformat_minor": 5
}
